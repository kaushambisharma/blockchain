{
  "nbformat": 4,
  "nbformat_minor": 0,
  "metadata": {
    "colab": {
      "name": "Creating a simple blockchain in Python.ipynb",
      "provenance": [],
      "collapsed_sections": []
    },
    "kernelspec": {
      "name": "python3",
      "display_name": "Python 3"
    },
    "language_info": {
      "name": "python"
    }
  },
  "cells": [
    {
      "cell_type": "code",
      "execution_count": null,
      "metadata": {
        "id": "37lUku7eB-bU"
      },
      "outputs": [],
      "source": [
        "from hashlib import sha256\n",
        "\n",
        "import json\n",
        "\n",
        "import time"
      ]
    },
    {
      "cell_type": "code",
      "source": [
        "class Chain:\n",
        "\n",
        "    def __init__(self):\n",
        "\n",
        "        self.blockchain = []\n",
        "\n",
        "        self.pending = []\n",
        "\n",
        "        self.add_block(prevhash=\"Genesis\", proof=123)\n",
        "\n",
        "    def add_transaction(self, sender, recipient, amount):\n",
        "\n",
        "      transaction = {\n",
        "\n",
        "          \"sender\": sender,\n",
        "\n",
        "          \"recipient\": recipient,\n",
        "\n",
        "          \"amount\": amount\n",
        "\n",
        "      }\n",
        "\n",
        "      self.pending.append(transaction)\n",
        "\n",
        "    def compute_hash(self, block):\n",
        "\n",
        "      json_block = json.dumps(block, sort_keys=True).encode()\n",
        "\n",
        "      curhash = sha256(json_block).hexdigest()\n",
        "\n",
        "      return curhash\n",
        "\n",
        "    def add_block(self, proof, prevhash=None):\n",
        "\n",
        "      block = {\n",
        "\n",
        "          \"index\": len(self.blockchain),\n",
        "\n",
        "          \"timestamp\": time.time(),\n",
        "\n",
        "          \"transactions\": self.pending,\n",
        "\n",
        "          \"proof\": proof,\n",
        "\n",
        "          \"prevhash\": prevhash or self.compute_hash(self.blockchain[-1])\n",
        "\n",
        "      }\n",
        "\n",
        "      self.pending = []\n",
        "\n",
        "      self.blockchain.append(block)\n"
      ],
      "metadata": {
        "id": "kqFlg4ynCYt8"
      },
      "execution_count": null,
      "outputs": []
    },
    {
      "cell_type": "code",
      "source": [
        "chain = Chain()\n",
        "\n",
        "t1 = chain.add_transaction(\"Vitalik\", \"Satoshi\", 100)\n",
        "\n",
        "t2 = chain.add_transaction(\"Satoshi\", \"Alice\", 10)\n",
        "\n",
        "t3 = chain.add_transaction(\"Alice\", \"Charlie\", 34)\n",
        "\n",
        "chain.add_block(12345)\n",
        "\n",
        "t4 = chain.add_transaction(\"Bob\", \"Eve\", 23)\n",
        "\n",
        "t5 = chain.add_transaction(\"Dennis\", \"Brian\", 3)\n",
        "\n",
        "t6 = chain.add_transaction(\"Ken\", \"Doug\", 88)\n",
        "\n",
        "chain.add_block(6789)\n",
        "\n",
        "print(chain.blockchain)"
      ],
      "metadata": {
        "id": "-LYZwfxbFz4L",
        "colab": {
          "base_uri": "https://localhost:8080/"
        },
        "outputId": "b7a4cdf9-3482-474c-a076-8863341d5c6e"
      },
      "execution_count": null,
      "outputs": [
        {
          "output_type": "stream",
          "name": "stdout",
          "text": [
            "[{'index': 0, 'timestamp': 1645077284.1741197, 'transactions': [], 'proof': 123, 'prevhash': 'Genesis'}, {'index': 1, 'timestamp': 1645077284.1742325, 'transactions': [{'sender': 'Vitalik', 'recipient': 'Satoshi', 'amount': 100}, {'sender': 'Satoshi', 'recipient': 'Alice', 'amount': 10}, {'sender': 'Alice', 'recipient': 'Charlie', 'amount': 34}], 'proof': 12345, 'prevhash': '50ae197a674d1d08b79cafce4d1bce387195a9dcfb0510dea001ff16739eeb06'}, {'index': 2, 'timestamp': 1645077284.1743767, 'transactions': [{'sender': 'Bob', 'recipient': 'Eve', 'amount': 23}, {'sender': 'Dennis', 'recipient': 'Brian', 'amount': 3}, {'sender': 'Ken', 'recipient': 'Doug', 'amount': 88}], 'proof': 6789, 'prevhash': '344c03f1b820580ccfed1fb26504b85cfba841b604bcb830bbd5bb9cd0d21ac1'}]\n"
          ]
        }
      ]
    },
    {
      "cell_type": "code",
      "source": [
        ""
      ],
      "metadata": {
        "id": "P2milTTaIRy7"
      },
      "execution_count": null,
      "outputs": []
    }
  ]
}